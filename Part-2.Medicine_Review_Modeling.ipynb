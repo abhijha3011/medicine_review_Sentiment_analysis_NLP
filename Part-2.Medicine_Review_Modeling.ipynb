{
 "cells": [
  {
   "cell_type": "markdown",
   "metadata": {
    "id": "ZOQ-0cES9GzA"
   },
   "source": [
    "## Modelling"
   ]
  },
  {
   "cell_type": "code",
   "execution_count": 1,
   "metadata": {
    "id": "MtvZf5g59GzF"
   },
   "outputs": [],
   "source": [
    "# Importing important packages\n",
    "\n",
    "import pandas as pd\n",
    "import numpy as np\n",
    "\n",
    "import matplotlib.pyplot as plt\n",
    "\n",
    "from scipy import stats"
   ]
  },
  {
   "cell_type": "code",
   "execution_count": 2,
   "metadata": {
    "id": "BSRrZkza9GzJ"
   },
   "outputs": [],
   "source": [
    "df7 = pd.read_csv('fresh_cleaned_short_new.csv')"
   ]
  },
  {
   "cell_type": "markdown",
   "metadata": {
    "id": "C8SJ_k4R9GzK"
   },
   "source": [
    "# Vader Lexicon for sentiment score"
   ]
  },
  {
   "cell_type": "code",
   "execution_count": 3,
   "metadata": {
    "colab": {
     "base_uri": "https://localhost:8080/"
    },
    "id": "ZmMkuyze9GzM",
    "outputId": "ad925a02-d083-47ea-99d8-4198cf4287b1"
   },
   "outputs": [],
   "source": [
    "#NLP\n",
    "import nltk\n",
    "from vaderSentiment.vaderSentiment import SentimentIntensityAnalyzer\n",
    "sid = SentimentIntensityAnalyzer()"
   ]
  },
  {
   "cell_type": "code",
   "execution_count": 4,
   "metadata": {
    "id": "uUqjGMy69GzP"
   },
   "outputs": [],
   "source": [
    "df7['Sentiment'] = (df7['Reviews'].apply(lambda review: sid.polarity_scores(str(review))['compound'])\n",
    "                  ).apply(lambda c: 'Positive' if c >0 else 'Not Positive')"
   ]
  },
  {
   "cell_type": "code",
   "execution_count": 5,
   "metadata": {
    "id": "H2sG-0H_9GzQ"
   },
   "outputs": [],
   "source": [
    "df=df7.dropna()"
   ]
  },
  {
   "cell_type": "code",
   "execution_count": 6,
   "metadata": {
    "colab": {
     "base_uri": "https://localhost:8080/"
    },
    "id": "iKR4MiGX9GzU",
    "outputId": "e1b04713-cfba-4dfe-a00e-e3ef82e7d7a2"
   },
   "outputs": [
    {
     "name": "stderr",
     "output_type": "stream",
     "text": [
      "/var/folders/8f/f_vht8sx6l54hbgzsl80w27w0000gn/T/ipykernel_2331/1792198555.py:1: SettingWithCopyWarning: \n",
      "A value is trying to be set on a copy of a slice from a DataFrame.\n",
      "Try using .loc[row_indexer,col_indexer] = value instead\n",
      "\n",
      "See the caveats in the documentation: https://pandas.pydata.org/pandas-docs/stable/user_guide/indexing.html#returning-a-view-versus-a-copy\n",
      "  df['Reviews']=df['Reviews'].astype('str')\n"
     ]
    }
   ],
   "source": [
    "df['Reviews']=df['Reviews'].astype('str')"
   ]
  },
  {
   "cell_type": "code",
   "execution_count": 7,
   "metadata": {
    "colab": {
     "base_uri": "https://localhost:8080/",
     "height": 418
    },
    "id": "XECFr_0x9GzW",
    "outputId": "6c94fc71-c22c-4d4c-b485-298e5f96eef2"
   },
   "outputs": [
    {
     "data": {
      "text/html": [
       "<div>\n",
       "<style scoped>\n",
       "    .dataframe tbody tr th:only-of-type {\n",
       "        vertical-align: middle;\n",
       "    }\n",
       "\n",
       "    .dataframe tbody tr th {\n",
       "        vertical-align: top;\n",
       "    }\n",
       "\n",
       "    .dataframe thead th {\n",
       "        text-align: right;\n",
       "    }\n",
       "</style>\n",
       "<table border=\"1\" class=\"dataframe\">\n",
       "  <thead>\n",
       "    <tr style=\"text-align: right;\">\n",
       "      <th></th>\n",
       "      <th>Condition</th>\n",
       "      <th>Drug</th>\n",
       "      <th>Age</th>\n",
       "      <th>Sex</th>\n",
       "      <th>EaseofUse</th>\n",
       "      <th>Effectiveness</th>\n",
       "      <th>Satisfaction</th>\n",
       "      <th>Reviews</th>\n",
       "      <th>Sides</th>\n",
       "      <th>Sentiment</th>\n",
       "    </tr>\n",
       "  </thead>\n",
       "  <tbody>\n",
       "    <tr>\n",
       "      <th>0</th>\n",
       "      <td>\"Change of Life\" Signs</td>\n",
       "      <td>duavee</td>\n",
       "      <td>45-54</td>\n",
       "      <td>Female</td>\n",
       "      <td>5</td>\n",
       "      <td>5</td>\n",
       "      <td>5</td>\n",
       "      <td>just started duavee a little over  weeks ago  ...</td>\n",
       "      <td>Stomach  upset,  nausea / vomiting ,  bloating...</td>\n",
       "      <td>Positive</td>\n",
       "    </tr>\n",
       "    <tr>\n",
       "      <th>1</th>\n",
       "      <td>\"Change of Life\" Signs</td>\n",
       "      <td>angeliq</td>\n",
       "      <td>55-64</td>\n",
       "      <td>Female</td>\n",
       "      <td>4</td>\n",
       "      <td>5</td>\n",
       "      <td>1</td>\n",
       "      <td>i felt great the hot flushes stopped but my ha...</td>\n",
       "      <td>Dizziness ,  lightheadedness ,  headache ,  st...</td>\n",
       "      <td>Not Positive</td>\n",
       "    </tr>\n",
       "    <tr>\n",
       "      <th>2</th>\n",
       "      <td>\"Change of Life\" Signs</td>\n",
       "      <td>neurontin capsule</td>\n",
       "      <td>65-74</td>\n",
       "      <td>Female</td>\n",
       "      <td>5</td>\n",
       "      <td>5</td>\n",
       "      <td>5</td>\n",
       "      <td>info</td>\n",
       "      <td>Drowsiness,  dizziness , loss of coordination,...</td>\n",
       "      <td>Not Positive</td>\n",
       "    </tr>\n",
       "    <tr>\n",
       "      <th>3</th>\n",
       "      <td>\"Change of Life\" Signs</td>\n",
       "      <td>angeliq</td>\n",
       "      <td>55-64</td>\n",
       "      <td>Female</td>\n",
       "      <td>5</td>\n",
       "      <td>5</td>\n",
       "      <td>5</td>\n",
       "      <td>i have had a drastic change in my health and g...</td>\n",
       "      <td>Dizziness ,  lightheadedness ,  headache ,  st...</td>\n",
       "      <td>Not Positive</td>\n",
       "    </tr>\n",
       "    <tr>\n",
       "      <th>4</th>\n",
       "      <td>\"Change of Life\" Signs</td>\n",
       "      <td>femring ring, vaginal</td>\n",
       "      <td>55-64</td>\n",
       "      <td>Female</td>\n",
       "      <td>5</td>\n",
       "      <td>5</td>\n",
       "      <td>5</td>\n",
       "      <td>i have used t his to counter vaginal atrophy a...</td>\n",
       "      <td>Nausea / vomiting ,  bloating ,  breast  tende...</td>\n",
       "      <td>Positive</td>\n",
       "    </tr>\n",
       "  </tbody>\n",
       "</table>\n",
       "</div>"
      ],
      "text/plain": [
       "                Condition                   Drug    Age     Sex  EaseofUse  \\\n",
       "0  \"Change of Life\" Signs                 duavee  45-54  Female          5   \n",
       "1  \"Change of Life\" Signs                angeliq  55-64  Female          4   \n",
       "2  \"Change of Life\" Signs      neurontin capsule  65-74  Female          5   \n",
       "3  \"Change of Life\" Signs                angeliq  55-64  Female          5   \n",
       "4  \"Change of Life\" Signs  femring ring, vaginal  55-64  Female          5   \n",
       "\n",
       "   Effectiveness  Satisfaction  \\\n",
       "0              5             5   \n",
       "1              5             1   \n",
       "2              5             5   \n",
       "3              5             5   \n",
       "4              5             5   \n",
       "\n",
       "                                             Reviews  \\\n",
       "0  just started duavee a little over  weeks ago  ...   \n",
       "1  i felt great the hot flushes stopped but my ha...   \n",
       "2                                               info   \n",
       "3  i have had a drastic change in my health and g...   \n",
       "4  i have used t his to counter vaginal atrophy a...   \n",
       "\n",
       "                                               Sides     Sentiment  \n",
       "0  Stomach  upset,  nausea / vomiting ,  bloating...      Positive  \n",
       "1  Dizziness ,  lightheadedness ,  headache ,  st...  Not Positive  \n",
       "2  Drowsiness,  dizziness , loss of coordination,...  Not Positive  \n",
       "3  Dizziness ,  lightheadedness ,  headache ,  st...  Not Positive  \n",
       "4  Nausea / vomiting ,  bloating ,  breast  tende...      Positive  "
      ]
     },
     "execution_count": 7,
     "metadata": {},
     "output_type": "execute_result"
    }
   ],
   "source": [
    "df.head()"
   ]
  },
  {
   "cell_type": "code",
   "execution_count": 8,
   "metadata": {
    "id": "CoCMWddG9Gzb"
   },
   "outputs": [],
   "source": [
    "#df.to_csv('df_fresh.csv', index = False)"
   ]
  },
  {
   "cell_type": "code",
   "execution_count": 9,
   "metadata": {
    "colab": {
     "base_uri": "https://localhost:8080/",
     "height": 37
    },
    "id": "zQQc0ney9Gzd",
    "outputId": "5b81e7cd-738b-4bb6-cc49-98da3da5fd51"
   },
   "outputs": [
    {
     "data": {
      "text/plain": [
       "'i started taking it for menopause hated the way i felt at first but then it was okay for awhile then i noticed all kinds of thing after coming out of the intial fog huge weight gain dificulty urinating joint pain muscle pain breathing problems fatigue etc blood pressure was up cholesterol went up went to my doc and she said had to wean off slowly was on  now down to  feel so tired and still have the electrical shocks but not as bad  more days og  then off totally hope that goes as well as the last phases i can deal with them i just want to feel normal againthe damage it can do is not worth taking for me never had anxiety till i went thru menopause need to find another way to deal with it'"
      ]
     },
     "execution_count": 9,
     "metadata": {},
     "output_type": "execute_result"
    }
   ],
   "source": [
    "df.Reviews[11]"
   ]
  },
  {
   "cell_type": "code",
   "execution_count": 10,
   "metadata": {
    "id": "Ih4dxIM8DWmL"
   },
   "outputs": [],
   "source": [
    "## TFidf Vectorizer\n",
    "from sklearn.feature_extraction.text import TfidfVectorizer\n",
    "tfidf_v=TfidfVectorizer()\n",
    "X = tfidf_v.fit_transform(df['Reviews'].values.astype('U')) "
   ]
  },
  {
   "cell_type": "code",
   "execution_count": 11,
   "metadata": {
    "colab": {
     "base_uri": "https://localhost:8080/"
    },
    "id": "mMy0ynJFDmD1",
    "outputId": "e9da62c2-6ca3-41dc-a6f0-175508ca4cd3"
   },
   "outputs": [
    {
     "data": {
      "text/plain": [
       "(103445, 83054)"
      ]
     },
     "execution_count": 11,
     "metadata": {},
     "output_type": "execute_result"
    }
   ],
   "source": [
    "X.shape"
   ]
  },
  {
   "cell_type": "code",
   "execution_count": 12,
   "metadata": {
    "id": "aIuE_loDDpy5"
   },
   "outputs": [],
   "source": [
    "y = df['Sentiment']"
   ]
  },
  {
   "cell_type": "code",
   "execution_count": 13,
   "metadata": {
    "colab": {
     "base_uri": "https://localhost:8080/"
    },
    "id": "spZFJ8IyDtZW",
    "outputId": "aaa18c95-2284-4261-ac87-230bcf3fd630"
   },
   "outputs": [
    {
     "data": {
      "text/plain": [
       "(103445,)"
      ]
     },
     "execution_count": 13,
     "metadata": {},
     "output_type": "execute_result"
    }
   ],
   "source": [
    "y.shape"
   ]
  },
  {
   "cell_type": "code",
   "execution_count": 14,
   "metadata": {
    "colab": {
     "base_uri": "https://localhost:8080/"
    },
    "id": "ObdJBvGfD6zk",
    "outputId": "62e36fd9-fc54-4aa6-cee4-3a6effe695bb"
   },
   "outputs": [
    {
     "name": "stdout",
     "output_type": "stream",
     "text": [
      "(77583, 83054) (25862, 83054) (77583,) (25862,)\n"
     ]
    }
   ],
   "source": [
    "## Divide the dataset into Train and Test\n",
    "from sklearn.model_selection import train_test_split\n",
    "X_train, X_test, y_train, y_test = train_test_split(X, y, test_size=0.25, random_state=42)\n",
    "print(X_train.shape,X_test.shape,y_train.shape,y_test.shape)"
   ]
  },
  {
   "cell_type": "code",
   "execution_count": 15,
   "metadata": {
    "colab": {
     "base_uri": "https://localhost:8080/"
    },
    "id": "RlsL5xJeEG5u",
    "outputId": "f961b202-40d2-4c32-bd19-e35d8cb82a06"
   },
   "outputs": [],
   "source": [
    "from sklearn.feature_extraction.text import TfidfVectorizer\n",
    "from sklearn.pipeline import Pipeline\n",
    "from sklearn.model_selection import train_test_split\n",
    "from sklearn.linear_model import LogisticRegression\n",
    "from sklearn.metrics import classification_report,confusion_matrix,accuracy_score"
   ]
  },
  {
   "cell_type": "markdown",
   "metadata": {
    "id": "yFwo7kUC9Gze"
   },
   "source": [
    "#  Logistic Regression model"
   ]
  },
  {
   "cell_type": "code",
   "execution_count": 16,
   "metadata": {
    "colab": {
     "base_uri": "https://localhost:8080/"
    },
    "id": "JWLS5DKx9Gzg",
    "outputId": "e4c9195d-2ea2-4164-e943-19c3d24d26a5"
   },
   "outputs": [],
   "source": [
    "tfidf_v=TfidfVectorizer()\n",
    "X=df.Reviews\n",
    "y=df.Sentiment\n",
    "X_train, X_test, y_train, y_test = train_test_split(X, y, test_size=0.25, random_state=365)"
   ]
  },
  {
   "cell_type": "code",
   "execution_count": 17,
   "metadata": {},
   "outputs": [],
   "source": [
    "model= Pipeline([('tfidf', TfidfVectorizer()),('svc', LogisticRegression(penalty='l2',multi_class='auto',class_weight = 'balanced')),])\n",
    "model.fit(X_train,y_train)\n",
    "y_testpred=model.predict(X_test)\n",
    "y_trainpred=model.predict(X_train)"
   ]
  },
  {
   "cell_type": "code",
   "execution_count": 18,
   "metadata": {
    "id": "GiYin0sr9Gzi"
   },
   "outputs": [],
   "source": [
    "def slog(rev1):\n",
    "    \n",
    "    return model.predict(rev1[\"COl\"])"
   ]
  },
  {
   "cell_type": "code",
   "execution_count": 19,
   "metadata": {
    "colab": {
     "base_uri": "https://localhost:8080/"
    },
    "id": "Z9AqpD3P9Gzk",
    "outputId": "771c7e75-2ea3-45a3-9f77-4d60d03a2e3c"
   },
   "outputs": [
    {
     "name": "stdout",
     "output_type": "stream",
     "text": [
      "accuracy on train set 0.8806181766624132\n",
      "accuracy on test set 0.8466862578300208\n",
      "*******************************************************\n",
      "              precision    recall  f1-score   support\n",
      "\n",
      "Not Positive       0.89      0.85      0.87     15731\n",
      "    Positive       0.78      0.84      0.81     10131\n",
      "\n",
      "    accuracy                           0.85     25862\n",
      "   macro avg       0.84      0.85      0.84     25862\n",
      "weighted avg       0.85      0.85      0.85     25862\n",
      "\n",
      "[[13394  2337]\n",
      " [ 1628  8503]]\n"
     ]
    }
   ],
   "source": [
    "from sklearn.metrics import classification_report,confusion_matrix,accuracy_score\n",
    "\n",
    "print('accuracy on train set %s' % accuracy_score(y_train,y_trainpred))\n",
    "print('accuracy on test set %s' % accuracy_score(y_test,y_testpred))\n",
    "print(\"*******************************************************\")\n",
    "print(classification_report(y_test,y_testpred))\n",
    "print(confusion_matrix(y_test,y_testpred))\n",
    "  "
   ]
  },
  {
   "cell_type": "code",
   "execution_count": 20,
   "metadata": {
    "colab": {
     "base_uri": "https://localhost:8080/",
     "height": 295
    },
    "id": "-XPwcCAv9Gzl",
    "outputId": "11b81055-8217-46e9-c2fa-2a835ca00623"
   },
   "outputs": [
    {
     "data": {
      "image/png": "[encoded data removed]",
      "text/plain": [
       "<Figure size 432x288 with 2 Axes>"
      ]
     },
     "metadata": {
      "needs_background": "light"
     },
     "output_type": "display_data"
    }
   ],
   "source": [
    "import seaborn as sns\n",
    "import matplotlib.pyplot as plt     \n",
    "from sklearn.metrics import confusion_matrix\n",
    "cm1=confusion_matrix(y_test, y_testpred)\n",
    "ax= plt.subplot()\n",
    "sns.heatmap(cm1,annot=True, fmt='g', ax=ax);  #annot=True to annotate cells, ftm='g' to disable scientific notation\n",
    "# labels, title and ticks\n",
    "ax.set_xlabel('Predicted labels');ax.set_ylabel('True labels'); \n",
    "ax.set_title('Confusion Matrix Logistic')\n",
    "ax.xaxis.set_ticklabels(['Positive', 'Not positive']); ax.yaxis.set_ticklabels(['Positive', 'Not positive']);"
   ]
  },
  {
   "cell_type": "markdown",
   "metadata": {
    "id": "hIHzo7Y29Gzn"
   },
   "source": [
    "# Multinomial Naive Bayes"
   ]
  },
  {
   "cell_type": "code",
   "execution_count": 21,
   "metadata": {},
   "outputs": [],
   "source": [
    "  from sklearn.feature_extraction.text import TfidfVectorizer\n",
    "  from sklearn.model_selection import train_test_split\n",
    "  from sklearn.naive_bayes import MultinomialNB\n",
    "  from sklearn.metrics import classification_report,confusion_matrix,accuracy_score\n",
    "  tfidf_v=TfidfVectorizer()\n",
    "  X=df.Reviews\n",
    "  y=df.Sentiment\n",
    "  X_train, X_test, y_train, y_test = train_test_split(X, y, test_size=0.25, random_state=365)\n",
    "  modelmnb=Pipeline([('tfidf', TfidfVectorizer()),\n",
    "                         ('mnb', MultinomialNB()),])    \n",
    "  modelmnb.fit(X_train,y_train)\n",
    "  y_testpredm=modelmnb.predict(X_test)\n",
    "  y_trainpredm=modelmnb.predict(X_train)"
   ]
  },
  {
   "cell_type": "code",
   "execution_count": 22,
   "metadata": {
    "id": "cdw6BIgJ9Gzo"
   },
   "outputs": [],
   "source": [
    "def mnbf(rev1):\n",
    "    return modelmnb.predict(rev1[\"COl\"])"
   ]
  },
  {
   "cell_type": "code",
   "execution_count": 23,
   "metadata": {
    "colab": {
     "base_uri": "https://localhost:8080/"
    },
    "id": "EyibAGBo9Gzp",
    "outputId": "a7febfb3-89ad-4f5d-a9d4-d82f803ef50f"
   },
   "outputs": [
    {
     "name": "stdout",
     "output_type": "stream",
     "text": [
      "accuracy on train set 0.7413479757163296\n",
      "accuracy on test set 0.6859871626324336\n",
      "*******************************************************\n",
      "              precision    recall  f1-score   support\n",
      "\n",
      "Not Positive       0.66      0.98      0.79     15731\n",
      "    Positive       0.90      0.22      0.36     10131\n",
      "\n",
      "    accuracy                           0.69     25862\n",
      "   macro avg       0.78      0.60      0.58     25862\n",
      "weighted avg       0.75      0.69      0.62     25862\n",
      "\n",
      "[[15471   260]\n",
      " [ 7861  2270]]\n"
     ]
    }
   ],
   "source": [
    "print('accuracy on train set %s' % accuracy_score(y_train, y_trainpredm))\n",
    "print('accuracy on test set %s' % accuracy_score(y_test, y_testpredm))\n",
    "print(\"*******************************************************\")\n",
    "print(classification_report(y_test,y_testpredm))\n",
    "print(confusion_matrix(y_test,y_testpredm))"
   ]
  },
  {
   "cell_type": "code",
   "execution_count": 24,
   "metadata": {
    "colab": {
     "base_uri": "https://localhost:8080/",
     "height": 295
    },
    "id": "dj08JlCL9Gzq",
    "outputId": "cf4c954d-0fee-46b1-991c-4674669a71ca"
   },
   "outputs": [
    {
     "data": {
      "image/png": "[encoded data removed]",
      "text/plain": [
       "<Figure size 432x288 with 2 Axes>"
      ]
     },
     "metadata": {
      "needs_background": "light"
     },
     "output_type": "display_data"
    }
   ],
   "source": [
    "import seaborn as sns\n",
    "import matplotlib.pyplot as plt     \n",
    "from sklearn.metrics import confusion_matrix\n",
    "cm3=confusion_matrix(y_test, y_testpredm)\n",
    "ax= plt.subplot()\n",
    "sns.heatmap(cm3,annot=True, fmt='g', ax=ax);  #annot=True to annotate cells, ftm='g' to disable scientific notation\n",
    "# labels, title and ticks\n",
    "ax.set_xlabel('Predicted labels');ax.set_ylabel('True labels'); \n",
    "ax.set_title('Confusion Matrix Navie Bayes'); \n",
    "ax.xaxis.set_ticklabels(['Positive', 'Not positive']); ax.yaxis.set_ticklabels(['Positive', 'Not positive']);\n"
   ]
  },
  {
   "cell_type": "markdown",
   "metadata": {
    "id": "qzDNUxn19Gzr"
   },
   "source": [
    "# Decision tree"
   ]
  },
  {
   "cell_type": "code",
   "execution_count": 25,
   "metadata": {},
   "outputs": [],
   "source": [
    "  from sklearn.feature_extraction.text import TfidfVectorizer\n",
    "  from sklearn.model_selection import train_test_split\n",
    "  from sklearn.tree import  DecisionTreeClassifier\n",
    "  from sklearn.metrics import classification_report,confusion_matrix,accuracy_score\n",
    "  tfidf_v=TfidfVectorizer()\n",
    "  X=df.Reviews\n",
    "  y=df.Sentiment\n",
    "  X_train, X_test, y_train, y_test = train_test_split(X, y, test_size=0.25, random_state=365)\n",
    "   \n",
    "  modeltree =Pipeline([('tfidf', TfidfVectorizer()),('decisiontree', DecisionTreeClassifier(criterion = 'entropy',max_depth=3))])\n",
    "  modeltree.fit(X_train,y_train)\n",
    "  y_testpredtr=modeltree.predict(X_test)\n",
    "  y_trainpredtr=modeltree.predict(X_train)"
   ]
  },
  {
   "cell_type": "code",
   "execution_count": 26,
   "metadata": {
    "id": "kLuBk7GC9Gzs"
   },
   "outputs": [],
   "source": [
    "def  dt(rev1):\n",
    "    \n",
    "    return modeltree.predict(rev1[\"COl\"])"
   ]
  },
  {
   "cell_type": "code",
   "execution_count": 27,
   "metadata": {
    "colab": {
     "base_uri": "https://localhost:8080/"
    },
    "id": "fBi_dFxx9Gzu",
    "outputId": "3fd7d084-f773-4265-ae28-7a00f2ec55b9"
   },
   "outputs": [
    {
     "name": "stdout",
     "output_type": "stream",
     "text": [
      "accuracy on train set 0.6598997202995501\n",
      "accuracy on test set 0.6600417601113603\n",
      "*******************************************************\n",
      "              precision    recall  f1-score   support\n",
      "\n",
      "Not Positive       0.65      0.94      0.77     15731\n",
      "    Positive       0.71      0.23      0.34     10131\n",
      "\n",
      "    accuracy                           0.66     25862\n",
      "   macro avg       0.68      0.58      0.56     25862\n",
      "weighted avg       0.67      0.66      0.60     25862\n",
      "\n",
      "[[14789   942]\n",
      " [ 7850  2281]]\n"
     ]
    }
   ],
   "source": [
    "print('accuracy on train set %s' % accuracy_score(y_train, y_trainpredtr))\n",
    "print('accuracy on test set %s' % accuracy_score(y_test, y_testpredtr))\n",
    "print(\"*******************************************************\")\n",
    "print(classification_report(y_test,y_testpredtr))\n",
    "print(confusion_matrix(y_test,y_testpredtr))"
   ]
  },
  {
   "cell_type": "code",
   "execution_count": 28,
   "metadata": {
    "colab": {
     "base_uri": "https://localhost:8080/",
     "height": 295
    },
    "id": "halnnuxI9Gzw",
    "outputId": "3499f9d5-8caa-4795-f5bd-5d656e9f8f37"
   },
   "outputs": [
    {
     "data": {
      "image/png": "[encoded data removed]",
      "text/plain": [
       "<Figure size 432x288 with 2 Axes>"
      ]
     },
     "metadata": {
      "needs_background": "light"
     },
     "output_type": "display_data"
    }
   ],
   "source": [
    "import seaborn as sns\n",
    "import matplotlib.pyplot as plt     \n",
    "from sklearn.metrics import confusion_matrix\n",
    "cm4=confusion_matrix(y_test, y_testpredtr)\n",
    "ax= plt.subplot()\n",
    "sns.heatmap(cm4,annot=True, fmt='g', ax=ax);  #annot=True to annotate cells, ftm='g' to disable scientific notation\n",
    "# labels, title and ticks\n",
    "ax.set_xlabel('Predbbicted labels');ax.set_ylabel('True labels'); \n",
    "ax.set_title('Confusion Matrix Decision tree'); \n",
    "ax.xaxis.set_ticklabels(['Positive', 'Not positive']); ax.yaxis.set_ticklabels(['Positive', 'Not positive']);\n"
   ]
  },
  {
   "cell_type": "markdown",
   "metadata": {
    "id": "pimLdhJT9Gzw"
   },
   "source": [
    "# Linear SVC Model"
   ]
  },
  {
   "cell_type": "code",
   "execution_count": 29,
   "metadata": {},
   "outputs": [
    {
     "data": {
      "text/plain": [
       "Pipeline(steps=[('tfidf', TfidfVectorizer()), ('svc', LinearSVC())])"
      ]
     },
     "execution_count": 29,
     "metadata": {},
     "output_type": "execute_result"
    }
   ],
   "source": [
    "  from sklearn.svm import LinearSVC\n",
    "  from sklearn.pipeline import Pipeline\n",
    "  from sklearn.metrics import accuracy_score, confusion_matrix\n",
    "  tfidf_v=TfidfVectorizer()\n",
    "  Xsvc=df.Reviews\n",
    "  ysvc=df.Sentiment\n",
    "  X_train, X_test, y_train, y_test = train_test_split(Xsvc, ysvc, test_size=0.25, random_state=365)\n",
    "\n",
    "  modelsvc= Pipeline([('tfidf', TfidfVectorizer()),\n",
    "                     ('svc', LinearSVC()),])\n",
    "  modelsvc.fit(X_train, y_train)"
   ]
  },
  {
   "cell_type": "code",
   "execution_count": 30,
   "metadata": {
    "id": "AKguHMRh9Gzx"
   },
   "outputs": [],
   "source": [
    "def  svcf(rev1):\n",
    "    return modelsvc.predict(rev1[\"COl\"])       "
   ]
  },
  {
   "cell_type": "code",
   "execution_count": 31,
   "metadata": {
    "colab": {
     "base_uri": "https://localhost:8080/",
     "height": 375
    },
    "id": "_FCc94iB9Gzx",
    "outputId": "af321f6f-7233-4a81-fc6a-fce6fd350f67"
   },
   "outputs": [
    {
     "name": "stdout",
     "output_type": "stream",
     "text": [
      "accuracy on train set 0.9339417140352912\n",
      "accuracy on test set 0.8537622766994045\n",
      "Classification Report  regression: \n",
      "               precision    recall  f1-score   support\n",
      "\n",
      "Not Positive       0.87      0.90      0.88     15731\n",
      "    Positive       0.83      0.79      0.81     10131\n",
      "\n",
      "    accuracy                           0.85     25862\n",
      "   macro avg       0.85      0.84      0.85     25862\n",
      "weighted avg       0.85      0.85      0.85     25862\n",
      "\n",
      "[[14107  2158]\n",
      " [ 1624  7973]]\n"
     ]
    }
   ],
   "source": [
    "y_testpredsvc=modelsvc.predict(X_test)\n",
    "y_trainpredsvc=modelsvc.predict(X_train)\n",
    "print('accuracy on train set %s' % accuracy_score(y_train, y_trainpredsvc))\n",
    "print('accuracy on test set %s' % accuracy_score(y_test,y_testpredsvc))\n",
    "report = classification_report(y_test, y_testpredsvc)\n",
    "print('Classification Report  regression: \\n', report)\n",
    "print(confusion_matrix(y_testpredsvc,y_test))\n",
    "   "
   ]
  },
  {
   "cell_type": "code",
   "execution_count": 32,
   "metadata": {
    "colab": {
     "base_uri": "https://localhost:8080/",
     "height": 295
    },
    "id": "GqY-s3qM9Gzy",
    "outputId": "fbed462d-a152-4d42-d609-903579435206"
   },
   "outputs": [
    {
     "data": {
      "image/png": "[encoded data removed]",
      "text/plain": [
       "<Figure size 432x288 with 2 Axes>"
      ]
     },
     "metadata": {
      "needs_background": "light"
     },
     "output_type": "display_data"
    }
   ],
   "source": [
    "import seaborn as sns\n",
    "import matplotlib.pyplot as plt     \n",
    "from sklearn.metrics import confusion_matrix\n",
    "cm5=confusion_matrix(y_test, y_testpredsvc)\n",
    "ax= plt.subplot()\n",
    "sns.heatmap(cm5,annot=True, fmt='g', ax=ax);  #annot=True to annotate cells, ftm='g' to disable scientific notation\n",
    "# labels, title and ticks\n",
    "ax.set_xlabel('Predicted labels');ax.set_ylabel('True labels'); \n",
    "ax.set_title('SVC Confusion Matrix'); \n",
    "ax.xaxis.set_ticklabels(['Positive', 'Not positive']); ax.yaxis.set_ticklabels(['Positive', 'Not positive']);"
   ]
  },
  {
   "cell_type": "code",
   "execution_count": 33,
   "metadata": {},
   "outputs": [],
   "source": [
    "    from sklearn.feature_extraction.text import TfidfVectorizer\n",
    "    from sklearn.ensemble import RandomForestClassifier\n",
    "    from sklearn.model_selection import train_test_split\n",
    "    from sklearn.naive_bayes import MultinomialNB\n",
    "    from sklearn.pipeline import Pipeline\n",
    "    from sklearn import metrics\n",
    "    \n",
    "    modelfor= Pipeline([('tfidf', TfidfVectorizer()),\n",
    "                     ('mnb', RandomForestClassifier(n_estimators=50,class_weight ='balanced')),])\n",
    "    modelfor.fit(X_train, y_train)\n",
    "    y_testpredfor=modelfor.predict(X_test)\n",
    "    y_trainpredfor=modelfor.predict(X_train)"
   ]
  },
  {
   "cell_type": "code",
   "execution_count": 34,
   "metadata": {
    "id": "fMaX59Mg9Gzy"
   },
   "outputs": [],
   "source": [
    "def find_rev_tfidf():\n",
    "    return modelfor.predict(rev1[\"COl\"])"
   ]
  },
  {
   "cell_type": "code",
   "execution_count": 35,
   "metadata": {
    "colab": {
     "base_uri": "https://localhost:8080/"
    },
    "id": "VFB8Xqvr9Gzz",
    "outputId": "023ff70a-9f5a-46eb-b961-d76f729fb3c1"
   },
   "outputs": [
    {
     "name": "stdout",
     "output_type": "stream",
     "text": [
      "accuracy on train set 0.9999742211566967\n",
      "accuracy on test set 0.7963034568092182\n",
      "Classification Report  regression: \n",
      "               precision    recall  f1-score   support\n",
      "\n",
      "Not Positive       0.77      0.94      0.85     15731\n",
      "    Positive       0.86      0.57      0.69     10131\n",
      "\n",
      "    accuracy                           0.80     25862\n",
      "   macro avg       0.82      0.76      0.77     25862\n",
      "weighted avg       0.81      0.80      0.79     25862\n",
      "\n"
     ]
    }
   ],
   "source": [
    "\n",
    "print('accuracy on train set %s' % accuracy_score(y_train, y_trainpredfor))\n",
    "print('accuracy on test set %s' % accuracy_score(y_test,y_testpredfor))\n",
    "report = classification_report(y_test, y_testpredfor)\n",
    "print('Classification Report  regression: \\n', report)\n",
    "#print(confusion_matrix(y_testpredsvc,y_test))"
   ]
  },
  {
   "cell_type": "code",
   "execution_count": 36,
   "metadata": {
    "colab": {
     "base_uri": "https://localhost:8080/",
     "height": 295
    },
    "id": "fVT_zNl79Gzz",
    "outputId": "66a7513e-2408-408c-c0ef-04d3300642c8"
   },
   "outputs": [
    {
     "data": {
      "image/png": "[encoded data removed]",
      "text/plain": [
       "<Figure size 432x288 with 2 Axes>"
      ]
     },
     "metadata": {
      "needs_background": "light"
     },
     "output_type": "display_data"
    }
   ],
   "source": [
    "import seaborn as sns\n",
    "import matplotlib.pyplot as plt     \n",
    "from sklearn.metrics import confusion_matrix\n",
    "cm6=confusion_matrix(y_test, y_testpredfor)\n",
    "ax= plt.subplot()\n",
    "sns.heatmap(cm6,annot=True, fmt='g', ax=ax);  #annot=True to annotate cells, ftm='g' to disable scientific notation\n",
    "# labels, title and ticks\n",
    "ax.set_xlabel('Predicted labels');ax.set_ylabel('True labels'); \n",
    "ax.set_title('Random forest Confusion Matrix'); \n",
    "ax.xaxis.set_ticklabels(['Positive', 'Not positive']); ax.yaxis.set_ticklabels(['Positive', 'Not positive']);"
   ]
  },
  {
   "cell_type": "code",
   "execution_count": 37,
   "metadata": {
    "colab": {
     "base_uri": "https://localhost:8080/"
    },
    "id": "TDoqwjRS9Gz0",
    "outputId": "791e8b4b-cec8-4b27-b61c-b74b9b3c3c23"
   },
   "outputs": [
    {
     "name": "stdout",
     "output_type": "stream",
     "text": [
      "log_train=  88.06181766624131 \n",
      " mnb_train= 74.13479757163296 \n",
      "lsvc_train=, 93.39417140352913 \n",
      " dtree_train= 65.98997202995501 \n",
      " for_train= 99.99742211566966\n"
     ]
    }
   ],
   "source": [
    "log_train=(model.score(X_train,y_train))*100\n",
    "mnb_train=(modelmnb.score(X_train,y_train))*100\n",
    "lsvc_train=(modelsvc.score(X_train,y_train))*100\n",
    "dtree_train=(modeltree.score(X_train,y_train))*100\n",
    "for_train=(modelfor.score(X_train,y_train))*100\n",
    "print(\"log_train= \",log_train,\"\\n mnb_train=\",mnb_train,\"\\nlsvc_train=,\",lsvc_train,\"\\n dtree_train=\",dtree_train,\"\\n for_train=\",for_train)"
   ]
  },
  {
   "cell_type": "code",
   "execution_count": 38,
   "metadata": {
    "colab": {
     "base_uri": "https://localhost:8080/"
    },
    "id": "ECuC0wC69Gz1",
    "outputId": "8698ae8d-e5a7-44fe-bc60-64fd70a932c0"
   },
   "outputs": [
    {
     "name": "stdout",
     "output_type": "stream",
     "text": [
      "log_test=  84.66862578300208 \n",
      " mnb_test= 68.59871626324336 \n",
      "lsvc_test=  85.37622766994045 \n",
      " dtree_test= 66.00417601113602 \n",
      " for_test= 79.63034568092182\n"
     ]
    }
   ],
   "source": [
    "log_test=(model.score(X_test,y_test))*100\n",
    "mnb_test=(modelmnb.score(X_test,y_test))*100\n",
    "lsvc_test=(modelsvc.score(X_test,y_test))*100\n",
    "dtree_test=(modeltree.score(X_test,y_test))*100\n",
    "for_test=(modelfor.score(X_test,y_test))*100\n",
    "print(\"log_test= \",log_test,\"\\n mnb_test=\",mnb_test,\"\\nlsvc_test= \",lsvc_test,\"\\n dtree_test=\",dtree_test,\"\\n for_test=\",for_test)"
   ]
  },
  {
   "cell_type": "code",
   "execution_count": 39,
   "metadata": {
    "id": "aYPthDiv9Gz1"
   },
   "outputs": [],
   "source": [
    "from sklearn.model_selection import cross_val_score"
   ]
  },
  {
   "cell_type": "code",
   "execution_count": 40,
   "metadata": {
    "colab": {
     "base_uri": "https://localhost:8080/"
    },
    "id": "OBNaSz-v9Gz2",
    "outputId": "b076ed2b-a447-4f84-ec0e-384f171ca3c1"
   },
   "outputs": [
    {
     "name": "stderr",
     "output_type": "stream",
     "text": [
      "/Users/abhishekjha/opt/anaconda3/lib/python3.9/site-packages/sklearn/linear_model/_logistic.py:763: ConvergenceWarning: lbfgs failed to converge (status=1):\n",
      "STOP: TOTAL NO. of ITERATIONS REACHED LIMIT.\n",
      "\n",
      "Increase the number of iterations (max_iter) or scale the data as shown in:\n",
      "    https://scikit-learn.org/stable/modules/preprocessing.html\n",
      "Please also refer to the documentation for alternative solver options:\n",
      "    https://scikit-learn.org/stable/modules/linear_model.html#logistic-regression\n",
      "  n_iter_i = _check_optimize_result(\n",
      "/Users/abhishekjha/opt/anaconda3/lib/python3.9/site-packages/sklearn/linear_model/_logistic.py:763: ConvergenceWarning: lbfgs failed to converge (status=1):\n",
      "STOP: TOTAL NO. of ITERATIONS REACHED LIMIT.\n",
      "\n",
      "Increase the number of iterations (max_iter) or scale the data as shown in:\n",
      "    https://scikit-learn.org/stable/modules/preprocessing.html\n",
      "Please also refer to the documentation for alternative solver options:\n",
      "    https://scikit-learn.org/stable/modules/linear_model.html#logistic-regression\n",
      "  n_iter_i = _check_optimize_result(\n",
      "/Users/abhishekjha/opt/anaconda3/lib/python3.9/site-packages/sklearn/linear_model/_logistic.py:763: ConvergenceWarning: lbfgs failed to converge (status=1):\n",
      "STOP: TOTAL NO. of ITERATIONS REACHED LIMIT.\n",
      "\n",
      "Increase the number of iterations (max_iter) or scale the data as shown in:\n",
      "    https://scikit-learn.org/stable/modules/preprocessing.html\n",
      "Please also refer to the documentation for alternative solver options:\n",
      "    https://scikit-learn.org/stable/modules/linear_model.html#logistic-regression\n",
      "  n_iter_i = _check_optimize_result(\n"
     ]
    },
    {
     "name": "stdout",
     "output_type": "stream",
     "text": [
      "Log [83.69181691 83.22296873 82.97162743 84.06882885 83.81265407]\n"
     ]
    }
   ],
   "source": [
    "\n",
    "print(\"Log\",(cross_val_score(model, X, y, cv=5))*100)"
   ]
  },
  {
   "cell_type": "code",
   "execution_count": 41,
   "metadata": {
    "colab": {
     "base_uri": "https://localhost:8080/"
    },
    "id": "wL_kXFM-9Gz2",
    "outputId": "026a87ce-1456-45f1-8fb2-907f24a6b28e"
   },
   "outputs": [
    {
     "name": "stdout",
     "output_type": "stream",
     "text": [
      "MNB= [68.80467881 66.68277829 67.25796317 67.04045628 68.24399439]\n"
     ]
    }
   ],
   "source": [
    "print(\"MNB=\",(cross_val_score(modelmnb, X, y, cv=5))*100)"
   ]
  },
  {
   "cell_type": "code",
   "execution_count": 42,
   "metadata": {
    "colab": {
     "base_uri": "https://localhost:8080/"
    },
    "id": "DKkJm9EG9Gz3",
    "outputId": "b989347a-64a7-472f-8b6e-7dcbb07b8928"
   },
   "outputs": [
    {
     "name": "stdout",
     "output_type": "stream",
     "text": [
      "LSVC= [83.83198801 83.24230267 82.81212238 83.68698342 83.75948572]\n"
     ]
    }
   ],
   "source": [
    "print(\"LSVC=\",(cross_val_score(modelsvc, X, y, cv=5))*100)"
   ]
  },
  {
   "cell_type": "code",
   "execution_count": 43,
   "metadata": {
    "colab": {
     "base_uri": "https://localhost:8080/"
    },
    "id": "2nYT6QOh9Gz3",
    "outputId": "be1e36fb-d244-4545-e272-72023558972d"
   },
   "outputs": [
    {
     "name": "stdout",
     "output_type": "stream",
     "text": [
      "Dtree= [65.52274155 66.30576635 65.61457779 66.04475808 65.76924936]\n"
     ]
    }
   ],
   "source": [
    "print(\"Dtree=\",(cross_val_score(modeltree, X, y, cv=5))*100)"
   ]
  },
  {
   "cell_type": "code",
   "execution_count": 44,
   "metadata": {
    "colab": {
     "base_uri": "https://localhost:8080/"
    },
    "id": "WekhQ6lY9Gz3",
    "outputId": "f35557ab-4eca-4a09-9c19-5182739ceeb0"
   },
   "outputs": [
    {
     "name": "stdout",
     "output_type": "stream",
     "text": [
      "Forest= [75.34752431 74.42674297]\n"
     ]
    }
   ],
   "source": [
    "print(\"Forest=\",(cross_val_score(modelfor, X, y, cv=2))*100)"
   ]
  },
  {
   "cell_type": "code",
   "execution_count": 45,
   "metadata": {
    "colab": {
     "base_uri": "https://localhost:8080/",
     "height": 80
    },
    "id": "1SGJtNuk9Gz4",
    "outputId": "f7ca8d54-a4dd-4685-edb7-01013989e34f"
   },
   "outputs": [
    {
     "data": {
      "text/html": [
       "<div>\n",
       "<style scoped>\n",
       "    .dataframe tbody tr th:only-of-type {\n",
       "        vertical-align: middle;\n",
       "    }\n",
       "\n",
       "    .dataframe tbody tr th {\n",
       "        vertical-align: top;\n",
       "    }\n",
       "\n",
       "    .dataframe thead th {\n",
       "        text-align: right;\n",
       "    }\n",
       "</style>\n",
       "<table border=\"1\" class=\"dataframe\">\n",
       "  <thead>\n",
       "    <tr style=\"text-align: right;\">\n",
       "      <th></th>\n",
       "      <th>COl</th>\n",
       "    </tr>\n",
       "  </thead>\n",
       "  <tbody>\n",
       "    <tr>\n",
       "      <th>0</th>\n",
       "      <td>severe back pain , feeling difficult to breath</td>\n",
       "    </tr>\n",
       "  </tbody>\n",
       "</table>\n",
       "</div>"
      ],
      "text/plain": [
       "                                               COl\n",
       "0   severe back pain , feeling difficult to breath"
      ]
     },
     "execution_count": 45,
     "metadata": {},
     "output_type": "execute_result"
    }
   ],
   "source": [
    "data= [\" severe back pain , feeling difficult to breath\"]\n",
    "rev1 = pd.DataFrame(data, columns = ['COl'])\n",
    "rev1"
   ]
  },
  {
   "cell_type": "code",
   "execution_count": 46,
   "metadata": {
    "colab": {
     "base_uri": "https://localhost:8080/"
    },
    "id": "qMQVyGHt9Gz4",
    "outputId": "ee417425-5eac-4efb-b136-1d70161a23dd"
   },
   "outputs": [
    {
     "data": {
      "text/plain": [
       "array(['Not Positive'], dtype=object)"
      ]
     },
     "execution_count": 46,
     "metadata": {},
     "output_type": "execute_result"
    }
   ],
   "source": [
    "slog(rev1)"
   ]
  },
  {
   "cell_type": "code",
   "execution_count": 47,
   "metadata": {
    "colab": {
     "base_uri": "https://localhost:8080/"
    },
    "id": "CqDyZxIi9Gz4",
    "outputId": "32b219d7-8514-4de0-919d-e60f161318f2"
   },
   "outputs": [
    {
     "data": {
      "text/plain": [
       "array(['Not Positive'], dtype=object)"
      ]
     },
     "execution_count": 47,
     "metadata": {},
     "output_type": "execute_result"
    }
   ],
   "source": [
    "svcf(rev1)"
   ]
  },
  {
   "cell_type": "code",
   "execution_count": 48,
   "metadata": {
    "colab": {
     "base_uri": "https://localhost:8080/"
    },
    "id": "axKWRt7O9Gz5",
    "outputId": "c619c795-e221-450b-92e0-59a47dbce870"
   },
   "outputs": [
    {
     "data": {
      "text/plain": [
       "array(['Not Positive'], dtype='<U12')"
      ]
     },
     "execution_count": 48,
     "metadata": {},
     "output_type": "execute_result"
    }
   ],
   "source": [
    "mnbf(rev1)"
   ]
  },
  {
   "cell_type": "code",
   "execution_count": 49,
   "metadata": {
    "colab": {
     "base_uri": "https://localhost:8080/"
    },
    "id": "il__DSEm9Gz5",
    "outputId": "e75da12d-bbac-42f5-d5d4-577fe27cdc9f"
   },
   "outputs": [
    {
     "data": {
      "text/plain": [
       "array(['Not Positive'], dtype=object)"
      ]
     },
     "execution_count": 49,
     "metadata": {},
     "output_type": "execute_result"
    }
   ],
   "source": [
    "dt(rev1)"
   ]
  },
  {
   "cell_type": "code",
   "execution_count": 50,
   "metadata": {
    "colab": {
     "base_uri": "https://localhost:8080/",
     "height": 80
    },
    "id": "DXXw4H0G9Gz5",
    "outputId": "0fb47687-a286-4462-9790-ee42515185f6"
   },
   "outputs": [
    {
     "data": {
      "text/html": [
       "<div>\n",
       "<style scoped>\n",
       "    .dataframe tbody tr th:only-of-type {\n",
       "        vertical-align: middle;\n",
       "    }\n",
       "\n",
       "    .dataframe tbody tr th {\n",
       "        vertical-align: top;\n",
       "    }\n",
       "\n",
       "    .dataframe thead th {\n",
       "        text-align: right;\n",
       "    }\n",
       "</style>\n",
       "<table border=\"1\" class=\"dataframe\">\n",
       "  <thead>\n",
       "    <tr style=\"text-align: right;\">\n",
       "      <th></th>\n",
       "      <th>COl</th>\n",
       "    </tr>\n",
       "  </thead>\n",
       "  <tbody>\n",
       "    <tr>\n",
       "      <th>0</th>\n",
       "      <td>It was helpful to get fastest cure, never thou...</td>\n",
       "    </tr>\n",
       "  </tbody>\n",
       "</table>\n",
       "</div>"
      ],
      "text/plain": [
       "                                                 COl\n",
       "0  It was helpful to get fastest cure, never thou..."
      ]
     },
     "execution_count": 50,
     "metadata": {},
     "output_type": "execute_result"
    }
   ],
   "source": [
    "data2= [ \"It was helpful to get fastest cure, never thought it would be so good and economic marvelous extraordinary,best excellent, very effective, genuine, helpful, never thought it would be so good and economic marvelous extraordinary,best excellent, very effective, genuine, helpful, never thought it would be so good and economic marvelous extraordinary,best excellent, very effective, genuine, helpful, never thought it would be so good and economic marvelous extraordinary,best excellent, very effective, genuine, helpful, never thought it would be so good and economic marvelous extraordinary,best excellent, very effective, genuine, helpful, never thought it would be so good and economic marvelous extraordinary,best excellent, very effective, genuine, helpful, never thought it would be so good and economic marvelous extraordinary,best excellent, very effective, genuine, helpful, never thought it would be so good and economic v marvelous extraordinary,best excellent, very effective, genuine, helpful, never thought it would be so good and economic marvelous extraordinary,best excellent, very effective, genuine, helpful, never thought it would be so good and economic marvelous extraordinary,best excellent, very effective, genuine, helpful, never thought it would be so good and economic marvelous extraordinary,best excellent, very effective, genuine, helpful, never thought it would be so good and economic marvelous extraordinary,best excellent, very effective, genuine, helpful, never thought it would be so good and economic\"]\n",
    "rev1 = pd.DataFrame(data2, columns = ['COl'])\n",
    "rev1"
   ]
  },
  {
   "cell_type": "code",
   "execution_count": 51,
   "metadata": {
    "colab": {
     "base_uri": "https://localhost:8080/"
    },
    "id": "pXhKgzjp9Gz6",
    "outputId": "c7df3e37-64aa-4945-a11b-47893f3126d0"
   },
   "outputs": [
    {
     "data": {
      "text/plain": [
       "array(['Positive'], dtype=object)"
      ]
     },
     "execution_count": 51,
     "metadata": {},
     "output_type": "execute_result"
    }
   ],
   "source": [
    "svcf(rev1)"
   ]
  },
  {
   "cell_type": "code",
   "execution_count": 52,
   "metadata": {
    "colab": {
     "base_uri": "https://localhost:8080/"
    },
    "id": "If9chSbE9Gz6",
    "outputId": "3730b76a-e263-4d6a-d8b6-b1c49076bd61"
   },
   "outputs": [
    {
     "data": {
      "text/plain": [
       "array(['Positive'], dtype=object)"
      ]
     },
     "execution_count": 52,
     "metadata": {},
     "output_type": "execute_result"
    }
   ],
   "source": [
    "slog(rev1)"
   ]
  },
  {
   "cell_type": "code",
   "execution_count": 53,
   "metadata": {
    "colab": {
     "base_uri": "https://localhost:8080/"
    },
    "id": "-3vP6bF_9Gz6",
    "outputId": "58d9c09f-10c6-4532-9a1f-d087c2eb6ab9"
   },
   "outputs": [
    {
     "data": {
      "text/plain": [
       "array(['Positive'], dtype='<U12')"
      ]
     },
     "execution_count": 53,
     "metadata": {},
     "output_type": "execute_result"
    }
   ],
   "source": [
    "mnbf(rev1)"
   ]
  },
  {
   "cell_type": "code",
   "execution_count": 54,
   "metadata": {
    "colab": {
     "base_uri": "https://localhost:8080/"
    },
    "id": "ap07nrgV9Gz6",
    "outputId": "6a2b033c-6c76-40b5-e8ac-997cfa5c8b15"
   },
   "outputs": [
    {
     "data": {
      "text/plain": [
       "array(['Not Positive'], dtype=object)"
      ]
     },
     "execution_count": 54,
     "metadata": {},
     "output_type": "execute_result"
    }
   ],
   "source": [
    "dt(rev1)"
   ]
  },
  {
   "cell_type": "code",
   "execution_count": 55,
   "metadata": {
    "id": "L5Q6E0XK9Gz7"
   },
   "outputs": [],
   "source": [
    "rev1['COl'] = (rev1['COl'].apply(lambda review: sid.polarity_scores(str(review))['compound'])\n",
    "                  ).apply(lambda c: 'Positive' if c >0 else 'Not Positive')"
   ]
  },
  {
   "cell_type": "code",
   "execution_count": 56,
   "metadata": {
    "colab": {
     "base_uri": "https://localhost:8080/",
     "height": 80
    },
    "id": "e9cah9z19Gz7",
    "outputId": "8ec6eaae-2ca4-4ff6-b259-fcf3be4735b3"
   },
   "outputs": [
    {
     "data": {
      "text/html": [
       "<div>\n",
       "<style scoped>\n",
       "    .dataframe tbody tr th:only-of-type {\n",
       "        vertical-align: middle;\n",
       "    }\n",
       "\n",
       "    .dataframe tbody tr th {\n",
       "        vertical-align: top;\n",
       "    }\n",
       "\n",
       "    .dataframe thead th {\n",
       "        text-align: right;\n",
       "    }\n",
       "</style>\n",
       "<table border=\"1\" class=\"dataframe\">\n",
       "  <thead>\n",
       "    <tr style=\"text-align: right;\">\n",
       "      <th></th>\n",
       "      <th>COl</th>\n",
       "    </tr>\n",
       "  </thead>\n",
       "  <tbody>\n",
       "    <tr>\n",
       "      <th>0</th>\n",
       "      <td>Positive</td>\n",
       "    </tr>\n",
       "  </tbody>\n",
       "</table>\n",
       "</div>"
      ],
      "text/plain": [
       "        COl\n",
       "0  Positive"
      ]
     },
     "execution_count": 56,
     "metadata": {},
     "output_type": "execute_result"
    }
   ],
   "source": [
    "rev1\n"
   ]
  },
  {
   "cell_type": "code",
   "execution_count": 57,
   "metadata": {
    "id": "W9X7TUNU9Gz-"
   },
   "outputs": [],
   "source": [
    "rev1['COl'] = (rev1['COl'].apply(lambda review: sid.polarity_scores(str(review))['compound'])\n",
    "                  ).apply(lambda c: 'Positive' if c >0 else 'Not Positive')"
   ]
  },
  {
   "cell_type": "code",
   "execution_count": 58,
   "metadata": {
    "colab": {
     "base_uri": "https://localhost:8080/",
     "height": 80
    },
    "id": "0uRDO6Ua9Gz-",
    "outputId": "6ab29a16-43b9-4ac4-82ab-01849f373276"
   },
   "outputs": [
    {
     "data": {
      "text/html": [
       "<div>\n",
       "<style scoped>\n",
       "    .dataframe tbody tr th:only-of-type {\n",
       "        vertical-align: middle;\n",
       "    }\n",
       "\n",
       "    .dataframe tbody tr th {\n",
       "        vertical-align: top;\n",
       "    }\n",
       "\n",
       "    .dataframe thead th {\n",
       "        text-align: right;\n",
       "    }\n",
       "</style>\n",
       "<table border=\"1\" class=\"dataframe\">\n",
       "  <thead>\n",
       "    <tr style=\"text-align: right;\">\n",
       "      <th></th>\n",
       "      <th>COl</th>\n",
       "    </tr>\n",
       "  </thead>\n",
       "  <tbody>\n",
       "    <tr>\n",
       "      <th>0</th>\n",
       "      <td>Positive</td>\n",
       "    </tr>\n",
       "  </tbody>\n",
       "</table>\n",
       "</div>"
      ],
      "text/plain": [
       "        COl\n",
       "0  Positive"
      ]
     },
     "execution_count": 58,
     "metadata": {},
     "output_type": "execute_result"
    }
   ],
   "source": [
    "rev1"
   ]
  },
  {
   "cell_type": "code",
   "execution_count": null,
   "metadata": {
    "id": "1Z2eNtVBa1zZ"
   },
   "outputs": [],
   "source": []
  },
  {
   "cell_type": "code",
   "execution_count": 59,
   "metadata": {
    "id": "z5BL9KKz9Gz_"
   },
   "outputs": [],
   "source": [
    "# medicines from cond\n",
    "\n",
    "def get_med():\n",
    "    from sklearn.feature_extraction.text import TfidfVectorizer\n",
    "    from sklearn.ensemble import RandomForestClassifier\n",
    "    from sklearn.model_selection import train_test_split\n",
    "    from sklearn.naive_bayes import MultinomialNB\n",
    "    from sklearn.pipeline import Pipeline\n",
    "    from sklearn import metrics\n",
    "    from sklearn.svm import LinearSVC\n",
    "\n",
    "\n",
    "    Xx = df[['Condition','Drug', 'Age', 'Sex', 'Reviews']].apply(lambda x: ' '.join(x), axis = 1)\n",
    "\n",
    "    Yy = df['Sentiment']\n",
    "    \n",
    "    X_train, X_test, y_train, y_test = train_test_split(Xx, Yy, test_size=0.2, random_state=365)\n",
    "    \n",
    "    drug_clsf= Pipeline([('tfidf', TfidfVectorizer()),\n",
    "                     ('LSVM', LinearSVC()),])\n",
    "    drug_clsf.fit(X_train, y_train)\n",
    "    acc = metrics.accuracy_score(y_test, drug_clsf.predict(X_test))\n",
    "    \n",
    "    return acc"
   ]
  },
  {
   "cell_type": "code",
   "execution_count": 60,
   "metadata": {
    "colab": {
     "base_uri": "https://localhost:8080/"
    },
    "id": "M7GArju69Gz_",
    "outputId": "5b5e1840-cd1e-4b71-ea0e-57ffa9f7bc63"
   },
   "outputs": [
    {
     "data": {
      "text/plain": [
       "0.8469718207743245"
      ]
     },
     "execution_count": 60,
     "metadata": {},
     "output_type": "execute_result"
    }
   ],
   "source": [
    "get_med()"
   ]
  },
  {
   "cell_type": "code",
   "execution_count": null,
   "metadata": {
    "id": "x6v7JBFca6fO"
   },
   "outputs": [],
   "source": []
  }
 ],
 "metadata": {
  "colab": {
   "collapsed_sections": [
    "hIHzo7Y29Gzn",
    "qzDNUxn19Gzr",
    "pimLdhJT9Gzw"
   ],
   "name": "model fresh_new.ipynb",
   "provenance": []
  },
  "kernelspec": {
   "display_name": "Python 3 (ipykernel)",
   "language": "python",
   "name": "python3"
  },
  "language_info": {
   "codemirror_mode": {
    "name": "ipython",
    "version": 3
   },
   "file_extension": ".py",
   "mimetype": "text/x-python",
   "name": "python",
   "nbconvert_exporter": "python",
   "pygments_lexer": "ipython3",
   "version": "3.9.7"
  }
 },
 "nbformat": 4,
 "nbformat_minor": 1
}
